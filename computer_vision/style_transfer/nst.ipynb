{
 "cells": [
  {
   "cell_type": "markdown",
   "id": "60d17690-e26d-423e-b21c-6c88f82660f1",
   "metadata": {},
   "source": [
    "## How Neural Style Transfer (NST) Works\n",
    "Neural Style Transfer (NST) is a technique that combines the content of one image with the artistic style of another using a pre-trained convolutional neural network (CNN). The key idea is to separate content and style features in deep layers of a CNN and then recombine them.\n",
    "\n",
    "NST uses an optimization-based approach where:\n",
    "\n",
    "- The content image defines the structure.\n",
    "- The style image provides the artistic texture.\n",
    "- A randomly initialized image (or a copy of the content image) is optimized to minimize the difference in content with the content image and the difference in style with the style image.\n",
    "\n",
    "\n",
    "Let's start with the first step\n",
    "\n",
    "#### Load a Pretrained CNN (VGG19)\n",
    "- Use a pretrained VGG19 model.\n",
    "- Extract specific layers to get content and style features.\n",
    "- Make sure to freeze the weights so they don’t get updated during training.\n",
    "\n",
    "🔹 Hints:\n",
    "Store the feature maps from specific layers:\n",
    "- conv4_2 for content features.\n",
    "- conv1_1, conv2_1, conv3_1, conv4_1, conv5_1 for style features."
   ]
  },
  {
   "cell_type": "code",
   "execution_count": 1,
   "id": "f6e874bb-aa7b-4415-8f01-8e8127ceb282",
   "metadata": {},
   "outputs": [],
   "source": [
    "import torch\n",
    "import torchvision"
   ]
  },
  {
   "cell_type": "code",
   "execution_count": 2,
   "id": "9792af2d-c1fe-4eb5-9eed-e354cae28eb5",
   "metadata": {},
   "outputs": [
    {
     "name": "stderr",
     "output_type": "stream",
     "text": [
      "/opt/homebrew/Caskroom/miniforge/base/envs/fastai/lib/python3.11/site-packages/torchvision/models/_utils.py:208: UserWarning: The parameter 'pretrained' is deprecated since 0.13 and may be removed in the future, please use 'weights' instead.\n",
      "  warnings.warn(\n",
      "/opt/homebrew/Caskroom/miniforge/base/envs/fastai/lib/python3.11/site-packages/torchvision/models/_utils.py:223: UserWarning: Arguments other than a weight enum or `None` for 'weights' are deprecated since 0.13 and may be removed in the future. The current behavior is equivalent to passing `weights=VGG19_Weights.IMAGENET1K_V1`. You can also use `weights=VGG19_Weights.DEFAULT` to get the most up-to-date weights.\n",
      "  warnings.warn(msg)\n"
     ]
    }
   ],
   "source": [
    "model = torchvision.models.vgg19(pretrained=True)"
   ]
  },
  {
   "cell_type": "code",
   "execution_count": null,
   "id": "0a48f2e8-ff08-4ff5-b383-1c22ee94a4a1",
   "metadata": {},
   "outputs": [],
   "source": [
    "class VGGFeatureExtractor():\n",
    "    def __init__(model):\n",
    "        # pass\n",
    "\n",
    "    def forward(X):\n",
    "        #pass"
   ]
  },
  {
   "cell_type": "code",
   "execution_count": null,
   "id": "608c1110-dd4a-4b0d-aa29-665a71377d82",
   "metadata": {},
   "outputs": [],
   "source": []
  },
  {
   "cell_type": "code",
   "execution_count": null,
   "id": "7dcf7d8b-63a0-4904-ade2-e09267ebc21d",
   "metadata": {},
   "outputs": [],
   "source": []
  },
  {
   "cell_type": "code",
   "execution_count": null,
   "id": "3d29509f-e32f-4bbd-8e21-b944cce983ec",
   "metadata": {},
   "outputs": [],
   "source": []
  },
  {
   "cell_type": "code",
   "execution_count": null,
   "id": "bf2ffc44-4410-485c-a4e0-4bff3ca59cda",
   "metadata": {},
   "outputs": [],
   "source": []
  },
  {
   "cell_type": "code",
   "execution_count": null,
   "id": "78cc8f92-8b67-4eb8-9044-62ba40076a2e",
   "metadata": {},
   "outputs": [],
   "source": []
  }
 ],
 "metadata": {
  "kernelspec": {
   "display_name": "Python 3 (ipykernel)",
   "language": "python",
   "name": "python3"
  },
  "language_info": {
   "codemirror_mode": {
    "name": "ipython",
    "version": 3
   },
   "file_extension": ".py",
   "mimetype": "text/x-python",
   "name": "python",
   "nbconvert_exporter": "python",
   "pygments_lexer": "ipython3",
   "version": "3.11.9"
  }
 },
 "nbformat": 4,
 "nbformat_minor": 5
}
